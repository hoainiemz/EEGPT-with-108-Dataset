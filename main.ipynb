{
 "cells": [
  {
   "cell_type": "code",
   "execution_count": 1,
   "id": "41c0bf90",
   "metadata": {},
   "outputs": [
    {
     "name": "stderr",
     "output_type": "stream",
     "text": [
      "/tmp/ipykernel_3746125/1336740768.py:4: UserWarning: pkg_resources is deprecated as an API. See https://setuptools.pypa.io/en/latest/pkg_resources.html. The pkg_resources package is slated for removal as early as 2025-11-30. Refrain from using this package or pin to Setuptools<81.\n",
      "  import pkg_resources\n"
     ]
    }
   ],
   "source": [
    "# export CUDA_VISIBLE_DEVICES=2,5\n",
    "import os\n",
    "os.environ[\"CUDA_VISIBLE_DEVICES\"] = \"1\"\n",
    "import pkg_resources\n",
    "from datasets.downstream import pearl_kfold_dataset\n",
    "from finetune_evaluator import Evaluator\n",
    "from downstream import model_for_pearls\n",
    "import torch\n",
    "from torch import nn\n",
    "from torchsummary import summary"
   ]
  },
  {
   "cell_type": "code",
   "execution_count": 2,
   "id": "1f4311ad",
   "metadata": {},
   "outputs": [],
   "source": [
    "def count_parameters(module: nn.Module) -> None:\n",
    "    \"\"\"\n",
    "    Print the number of total and trainable parameters in a torch.nn.Module.\n",
    "    \"\"\"\n",
    "    total_params = sum(p.numel() for p in module.parameters())\n",
    "    trainable_params = sum(p.numel() for p in module.parameters() if p.requires_grad)\n",
    "\n",
    "    print(f\"Total parameters: {total_params}\")\n",
    "    print(f\"Trainable parameters: {trainable_params}\")"
   ]
  },
  {
   "cell_type": "code",
   "execution_count": 3,
   "id": "3f80d219",
   "metadata": {},
   "outputs": [
    {
     "name": "stdout",
     "output_type": "stream",
     "text": [
      "502 119 131\n",
      "752\n"
     ]
    }
   ],
   "source": [
    "class Params:\n",
    "    def __init__(self):\n",
    "        self.datasets_dir = \"/mnt/disk1/aiotlab/namth/EEGFoundationModel/datasets/pearl_30s_oldnumpy/108/fold_0\"\n",
    "        self.batch_size = 8\n",
    "        self.use_pretrained_weights = True\n",
    "        self.foundation_dir = \"/mnt/disk1/aiotlab/namth/EEGFoundationModel/EEGPT/checkpoint/108.ckpt\"\n",
    "        self.dropout = 0.1\n",
    "        self.cuda = 2\n",
    "        self.modality_mode = 'multi'\n",
    "        self.project_name = 'BigFaced'\n",
    "        self.frozen = True\n",
    "        self.num_of_classes = 2\n",
    "\n",
    "params = Params()\n",
    "\n",
    "loader = pearl_kfold_dataset.LoadDataset(params).get_data_loader()\n",
    "\n",
    "train_eval = Evaluator(params, loader['train'])\n",
    "val_eval = Evaluator(params, loader['val'])\n",
    "test_eval = Evaluator(params, loader['test'])"
   ]
  },
  {
   "cell_type": "code",
   "execution_count": 4,
   "id": "9af824f6",
   "metadata": {},
   "outputs": [],
   "source": [
    "model = model_for_pearls.Model(params).cuda()"
   ]
  },
  {
   "cell_type": "code",
   "execution_count": 5,
   "id": "6cb65fe7",
   "metadata": {},
   "outputs": [
    {
     "data": {
      "text/plain": [
       "(torch.Size([8, 19, 6000]), torch.Size([8, 28]), torch.Size([8]))"
      ]
     },
     "execution_count": 5,
     "metadata": {},
     "output_type": "execute_result"
    }
   ],
   "source": [
    "x, y = next(iter(loader['train']))\n",
    "x = (x[0].cuda(), x[1].cuda())\n",
    "x[0].shape, x[1].shape, y.shape"
   ]
  },
  {
   "cell_type": "code",
   "execution_count": 6,
   "id": "6b920dc2",
   "metadata": {},
   "outputs": [
    {
     "data": {
      "text/plain": [
       "torch.Size([8])"
      ]
     },
     "execution_count": 6,
     "metadata": {},
     "output_type": "execute_result"
    }
   ],
   "source": [
    "with torch.no_grad():\n",
    "    out = model(x)\n",
    "out.shape"
   ]
  },
  {
   "cell_type": "code",
   "execution_count": 7,
   "id": "2f9c441a",
   "metadata": {},
   "outputs": [
    {
     "name": "stdout",
     "output_type": "stream",
     "text": [
      "official model\n",
      "Total parameters: 2150781\n",
      "Trainable parameters: 2150781\n"
     ]
    }
   ],
   "source": [
    "print('official model')\n",
    "count_parameters(model)"
   ]
  }
 ],
 "metadata": {
  "kernelspec": {
   "display_name": "hoainiemeegpt",
   "language": "python",
   "name": "python3"
  },
  "language_info": {
   "codemirror_mode": {
    "name": "ipython",
    "version": 3
   },
   "file_extension": ".py",
   "mimetype": "text/x-python",
   "name": "python",
   "nbconvert_exporter": "python",
   "pygments_lexer": "ipython3",
   "version": "3.11.13"
  }
 },
 "nbformat": 4,
 "nbformat_minor": 5
}
