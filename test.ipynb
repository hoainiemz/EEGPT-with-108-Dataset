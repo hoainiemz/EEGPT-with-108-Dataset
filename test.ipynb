{
 "cells": [
  {
   "cell_type": "code",
   "execution_count": 1,
   "id": "08a6a626",
   "metadata": {},
   "outputs": [
    {
     "name": "stderr",
     "output_type": "stream",
     "text": [
      "/tmp/ipykernel_1890798/2827869089.py:4: UserWarning: pkg_resources is deprecated as an API. See https://setuptools.pypa.io/en/latest/pkg_resources.html. The pkg_resources package is slated for removal as early as 2025-11-30. Refrain from using this package or pin to Setuptools<81.\n",
      "  import pkg_resources\n"
     ]
    }
   ],
   "source": [
    "# export CUDA_VISIBLE_DEVICES=2,5\n",
    "import os\n",
    "os.environ[\"CUDA_VISIBLE_DEVICES\"] = \"2\"\n",
    "import pkg_resources\n",
    "from datasets.downstream import uet175_dataset\n",
    "from finetune_evaluator import Evaluator\n",
    "from downstream import model_for_uet175\n",
    "import torch\n",
    "from torch import nn\n",
    "from torchsummary import summary"
   ]
  },
  {
   "cell_type": "code",
   "execution_count": 2,
   "id": "ff4cc984",
   "metadata": {},
   "outputs": [],
   "source": [
    "def count_parameters(module: nn.Module) -> None:\n",
    "    \"\"\"\n",
    "    Print the number of total and trainable parameters in a torch.nn.Module.\n",
    "    \"\"\"\n",
    "    total_params = sum(p.numel() for p in module.parameters())\n",
    "    trainable_params = sum(p.numel() for p in module.parameters() if p.requires_grad)\n",
    "\n",
    "    print(f\"Total parameters: {total_params}\")\n",
    "    print(f\"Trainable parameters: {trainable_params}\")"
   ]
  },
  {
   "cell_type": "code",
   "execution_count": 8,
   "id": "5c8c1789",
   "metadata": {},
   "outputs": [
    {
     "name": "stdout",
     "output_type": "stream",
     "text": [
      "1260 335 286\n",
      "1881\n"
     ]
    }
   ],
   "source": [
    "class Params:\n",
    "    def __init__(self):\n",
    "        self.datasets_dir = \"/mnt/disk1/aiotlab/namth/EEGFoundationModel/datasets/UET175_eegpt_108\"\n",
    "        self.batch_size = 8\n",
    "        self.use_pretrained_weights = True\n",
    "        self.foundation_dir = \"/mnt/disk1/aiotlab/namth/EEGFoundationModel/EEGPT/checkpoint/108.ckpt\"\n",
    "        self.dropout = 0.1\n",
    "        self.cuda = 2\n",
    "        self.modality_mode = 'multi'\n",
    "        self.project_name = 'BigFaced'\n",
    "        self.frozen = True\n",
    "        self.num_of_classes = 4\n",
    "        self.num_fold = 0\n",
    "\n",
    "params = Params()\n",
    "\n",
    "loader = uet175_dataset.LoadDataset(params).get_data_loader()\n",
    "\n",
    "train_eval = Evaluator(params, loader['train'])\n",
    "val_eval = Evaluator(params, loader['val'])\n",
    "test_eval = Evaluator(params, loader['test'])"
   ]
  },
  {
   "cell_type": "code",
   "execution_count": 9,
   "id": "971cbb65",
   "metadata": {},
   "outputs": [
    {
     "name": "stdout",
     "output_type": "stream",
     "text": [
      "torch.Size([8, 22, 800]) torch.Size([8])\n"
     ]
    },
    {
     "data": {
      "text/plain": [
       "tensor(3)"
      ]
     },
     "execution_count": 9,
     "metadata": {},
     "output_type": "execute_result"
    }
   ],
   "source": [
    "x, y = next(iter(loader['train']))\n",
    "print(x.shape, y.shape)\n",
    "y.max()"
   ]
  },
  {
   "cell_type": "code",
   "execution_count": 10,
   "id": "268705bf",
   "metadata": {},
   "outputs": [],
   "source": [
    "model = model_for_uet175.LitEEGPTCausal(params)"
   ]
  },
  {
   "cell_type": "code",
   "execution_count": 11,
   "id": "a7858c82",
   "metadata": {},
   "outputs": [
    {
     "data": {
      "text/plain": [
       "torch.Size([8, 4])"
      ]
     },
     "execution_count": 11,
     "metadata": {},
     "output_type": "execute_result"
    }
   ],
   "source": [
    "model(x).shape"
   ]
  }
 ],
 "metadata": {
  "kernelspec": {
   "display_name": "hoainiemeegpt",
   "language": "python",
   "name": "python3"
  },
  "language_info": {
   "codemirror_mode": {
    "name": "ipython",
    "version": 3
   },
   "file_extension": ".py",
   "mimetype": "text/x-python",
   "name": "python",
   "nbconvert_exporter": "python",
   "pygments_lexer": "ipython3",
   "version": "3.11.13"
  }
 },
 "nbformat": 4,
 "nbformat_minor": 5
}
